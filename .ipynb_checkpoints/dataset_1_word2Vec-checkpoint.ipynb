{
 "cells": [
  {
   "cell_type": "markdown",
   "id": "2a18362e-1f96-47cd-bb02-b1b104a53610",
   "metadata": {},
   "source": [
    "# Multi-Aspect Sentiment Analysis of Indonesian Hotel Reviews Using Hybrid Classifier Based on SVM, NB, RF, and K-NN."
   ]
  },
  {
   "cell_type": "markdown",
   "id": "eeb99424-99c6-4d95-820d-85115a71451d",
   "metadata": {},
   "source": [
    "## Dataset\n",
    "1. dataset yang digunakan dari indoNLU. \n",
    "2. URL: https://github.com/IndoNLP/indonlu/blob/master/dataset/hoasa_absa-airy/train_preprocess.csv "
   ]
  },
  {
   "cell_type": "markdown",
   "id": "0296fc2c-04fa-4976-9ecb-80c83cc85ea7",
   "metadata": {},
   "source": [
    "### Load Dataset"
   ]
  },
  {
   "cell_type": "code",
   "execution_count": null,
   "id": "48c15866-69b6-47e2-b8fd-d27b9ddd1f91",
   "metadata": {},
   "outputs": [],
   "source": []
  },
  {
   "cell_type": "markdown",
   "id": "45409c85-b5cc-4012-8e6b-b7b422fda836",
   "metadata": {},
   "source": [
    "### Exploratory Data Analysis (EDA)"
   ]
  },
  {
   "cell_type": "code",
   "execution_count": null,
   "id": "dfa9e029-78eb-4d44-a5df-61bd4672a6c5",
   "metadata": {},
   "outputs": [],
   "source": []
  },
  {
   "cell_type": "markdown",
   "id": "ad91c5af-5c77-47c9-ba1b-cf6817cd9aca",
   "metadata": {},
   "source": [
    "###  Import libraries"
   ]
  },
  {
   "cell_type": "code",
   "execution_count": null,
   "id": "c56ef964-7632-4080-9144-bd76f665b945",
   "metadata": {},
   "outputs": [],
   "source": []
  },
  {
   "cell_type": "markdown",
   "id": "64070f16-4c5b-4f5c-8314-8508ee190dac",
   "metadata": {},
   "source": [
    "### Preprocessing Data"
   ]
  },
  {
   "cell_type": "markdown",
   "id": "0ad24c12-69fb-46c6-9054-c1793596b1a4",
   "metadata": {},
   "source": [
    "#### Symbol puntuation removal"
   ]
  },
  {
   "cell_type": "code",
   "execution_count": null,
   "id": "736a8883-f17b-4ea8-a53f-baf035a83e4f",
   "metadata": {},
   "outputs": [],
   "source": []
  },
  {
   "cell_type": "markdown",
   "id": "37b9aafd-0e0d-4180-a751-937af0f6aea6",
   "metadata": {},
   "source": [
    "#### Case Folding"
   ]
  },
  {
   "cell_type": "code",
   "execution_count": null,
   "id": "fcc61eef-03de-4a9d-af1a-1c1077fdb427",
   "metadata": {},
   "outputs": [],
   "source": []
  },
  {
   "cell_type": "markdown",
   "id": "37359e9d-2cb2-47b2-9c43-4534440f1a35",
   "metadata": {},
   "source": [
    "#### Tokenized"
   ]
  },
  {
   "cell_type": "code",
   "execution_count": null,
   "id": "7afcde6a-8ad6-4a5a-a4f3-ff3678f1a009",
   "metadata": {},
   "outputs": [],
   "source": []
  },
  {
   "cell_type": "markdown",
   "id": "74754e9c-751b-40ba-b65d-f1470cfa6f23",
   "metadata": {},
   "source": [
    "#### Normalization"
   ]
  },
  {
   "cell_type": "code",
   "execution_count": null,
   "id": "3d94f18a-6635-4baf-9638-93eb092621b6",
   "metadata": {},
   "outputs": [],
   "source": []
  },
  {
   "cell_type": "markdown",
   "id": "f2832e51-35c0-43dd-a012-e9371f0c3580",
   "metadata": {},
   "source": [
    "#### Stopword"
   ]
  },
  {
   "cell_type": "code",
   "execution_count": null,
   "id": "2f47cd4f-7fe4-49e9-a6a2-3d08b785db41",
   "metadata": {},
   "outputs": [],
   "source": []
  },
  {
   "cell_type": "markdown",
   "id": "0539ba47-26cb-444d-bf30-7372e602cdff",
   "metadata": {},
   "source": [
    "#### Stemming"
   ]
  },
  {
   "cell_type": "code",
   "execution_count": null,
   "id": "e9aca25b-6a6e-4bef-9196-440aafd5e88b",
   "metadata": {},
   "outputs": [],
   "source": []
  },
  {
   "cell_type": "markdown",
   "id": "e6fca166-f557-44fc-9cf1-24b776a725da",
   "metadata": {},
   "source": [
    "### Implementation word2Vec"
   ]
  },
  {
   "cell_type": "code",
   "execution_count": 1,
   "id": "080eb0ba-ad21-4d03-8807-7bd455eaf046",
   "metadata": {},
   "outputs": [
    {
     "name": "stdout",
     "output_type": "stream",
     "text": [
      "Menerapkan Word2Vec...\n"
     ]
    },
    {
     "ename": "NameError",
     "evalue": "name 'train_df' is not defined",
     "output_type": "error",
     "traceback": [
      "\u001b[1;31m---------------------------------------------------------------------------\u001b[0m",
      "\u001b[1;31mNameError\u001b[0m                                 Traceback (most recent call last)",
      "Cell \u001b[1;32mIn[1], line 11\u001b[0m\n\u001b[0;32m      7\u001b[0m \u001b[38;5;28mprint\u001b[39m(\u001b[38;5;124m\"\u001b[39m\u001b[38;5;124mMenerapkan Word2Vec...\u001b[39m\u001b[38;5;124m\"\u001b[39m)\n\u001b[0;32m      9\u001b[0m \u001b[38;5;66;03m# 1. Load / latih model Word2Vec (jika belum punya pretrained model)\u001b[39;00m\n\u001b[0;32m     10\u001b[0m \u001b[38;5;66;03m# Asumsi kamu sudah punya kolom 'stemmed' berisi token hasil preprocessing\u001b[39;00m\n\u001b[1;32m---> 11\u001b[0m sentences \u001b[38;5;241m=\u001b[39m train_df[\u001b[38;5;124m'\u001b[39m\u001b[38;5;124mstemmed\u001b[39m\u001b[38;5;124m'\u001b[39m]\u001b[38;5;241m.\u001b[39mtolist() \u001b[38;5;241m+\u001b[39m test_df[\u001b[38;5;124m'\u001b[39m\u001b[38;5;124mstemmed\u001b[39m\u001b[38;5;124m'\u001b[39m]\u001b[38;5;241m.\u001b[39mtolist()\n\u001b[0;32m     12\u001b[0m w2v_model \u001b[38;5;241m=\u001b[39m Word2Vec(sentences, vector_size\u001b[38;5;241m=\u001b[39m\u001b[38;5;241m100\u001b[39m, window\u001b[38;5;241m=\u001b[39m\u001b[38;5;241m5\u001b[39m, min_count\u001b[38;5;241m=\u001b[39m\u001b[38;5;241m1\u001b[39m, workers\u001b[38;5;241m=\u001b[39m\u001b[38;5;241m4\u001b[39m, sg\u001b[38;5;241m=\u001b[39m\u001b[38;5;241m1\u001b[39m)\n\u001b[0;32m     14\u001b[0m \u001b[38;5;66;03m# 2. Fungsi untuk menghitung rata-rata vektor dari semua kata dalam satu review\u001b[39;00m\n",
      "\u001b[1;31mNameError\u001b[0m: name 'train_df' is not defined"
     ]
    }
   ],
   "source": [
    "from gensim.models import Word2Vec\n",
    "import numpy as np\n",
    "import pandas as pd\n",
    "\n",
    "# --- TAHAP 7: IMPLEMENTASI WORD2VEC ---\n",
    "\n",
    "print(\"Menerapkan Word2Vec...\")\n",
    "\n",
    "# 1. Load / latih model Word2Vec (jika belum punya pretrained model)\n",
    "# Asumsi kamu sudah punya kolom 'stemmed' berisi token hasil preprocessing\n",
    "sentences = train_df['stemmed'].tolist() + test_df['stemmed'].tolist()\n",
    "w2v_model = Word2Vec(sentences, vector_size=100, window=5, min_count=1, workers=4, sg=1)\n",
    "\n",
    "# 2. Fungsi untuk menghitung rata-rata vektor dari semua kata dalam satu review\n",
    "def document_vector(tokens):\n",
    "    vectors = [w2v_model.wv[word] for word in tokens if word in w2v_model.wv]\n",
    "    return np.mean(vectors, axis=0) if vectors else np.zeros(w2v_model.vector_size)\n",
    "\n",
    "# 3. Transformasi data training dan testing\n",
    "X_train_w2v = np.array([document_vector(tokens) for tokens in train_df['stemmed']])\n",
    "X_test_w2v = np.array([document_vector(tokens) for tokens in test_df['stemmed']])\n",
    "\n",
    "# 4. Konversi ke DataFrame (opsional, untuk eksplorasi)\n",
    "train_w2v_df = pd.DataFrame(X_train_w2v)\n",
    "test_w2v_df = pd.DataFrame(X_test_w2v)\n",
    "\n",
    "# Tambahkan ID\n",
    "train_w2v_df.insert(0, 'Review', [f'R_w2v_train_{i+1}' for i in range(len(train_w2v_df))])\n",
    "test_w2v_df.insert(0, 'Review', [f'R_w2v_test_{i+1}' for i in range(len(test_w2v_df))])\n",
    "\n",
    "# 5. Output\n",
    "print(\"\\nDataFrame Word2Vec untuk data training (head):\")\n",
    "print(train_w2v_df.head())\n",
    "\n",
    "print(\"\\nDataFrame Word2Vec untuk data testing (head):\")\n",
    "print(test_w2v_df.head())"
   ]
  },
  {
   "cell_type": "markdown",
   "id": "ab38114f-0076-4347-b30e-0e39f58995e8",
   "metadata": {},
   "source": [
    "### Implementation Each Algorithms + word2Vec"
   ]
  },
  {
   "cell_type": "markdown",
   "id": "390164a6-2b38-4e71-9ee5-800dfca37ded",
   "metadata": {},
   "source": [
    "#### Random Forest"
   ]
  },
  {
   "cell_type": "code",
   "execution_count": null,
   "id": "423b3b7e-d5d9-4033-93d4-27600714a165",
   "metadata": {},
   "outputs": [],
   "source": []
  },
  {
   "cell_type": "markdown",
   "id": "cb02a3ff-7e45-4896-973d-091e4a59b1c2",
   "metadata": {},
   "source": [
    "#### Support Vector Machine"
   ]
  },
  {
   "cell_type": "code",
   "execution_count": null,
   "id": "5ed4f23f-5c43-4133-9ddd-6afa48ccbc5a",
   "metadata": {},
   "outputs": [],
   "source": []
  },
  {
   "cell_type": "markdown",
   "id": "17d7ada8-c2e3-459a-8c17-b31cb83d8e3b",
   "metadata": {},
   "source": [
    "#### Multinomial Naive Bayes"
   ]
  },
  {
   "cell_type": "code",
   "execution_count": null,
   "id": "bd313be7-f025-4651-84c0-8cc42353be18",
   "metadata": {},
   "outputs": [],
   "source": []
  },
  {
   "cell_type": "markdown",
   "id": "a4702808-9633-4737-9e64-abff6d8e2af7",
   "metadata": {},
   "source": [
    "#### K-Nearest Neighbour"
   ]
  },
  {
   "cell_type": "code",
   "execution_count": null,
   "id": "d1102e51-ec05-4827-9173-1c41c1a798c3",
   "metadata": {},
   "outputs": [],
   "source": []
  },
  {
   "cell_type": "markdown",
   "id": "a3c98dc8-0db2-4a0a-b42f-29bea0527099",
   "metadata": {},
   "source": [
    "#### Hybrid Classifier"
   ]
  },
  {
   "cell_type": "code",
   "execution_count": null,
   "id": "d622fb10-7d0e-4365-aa7b-679f114f2a01",
   "metadata": {},
   "outputs": [],
   "source": []
  },
  {
   "cell_type": "markdown",
   "id": "7ea563d8-1051-4712-b7ac-56a856efefaa",
   "metadata": {},
   "source": [
    "### Evaluation Matrix"
   ]
  },
  {
   "cell_type": "code",
   "execution_count": null,
   "id": "e089cf9c-d12e-4d73-9947-68e6d7e14376",
   "metadata": {},
   "outputs": [],
   "source": []
  }
 ],
 "metadata": {
  "kernelspec": {
   "display_name": "Python 3 (ipykernel)",
   "language": "python",
   "name": "python3"
  },
  "language_info": {
   "codemirror_mode": {
    "name": "ipython",
    "version": 3
   },
   "file_extension": ".py",
   "mimetype": "text/x-python",
   "name": "python",
   "nbconvert_exporter": "python",
   "pygments_lexer": "ipython3",
   "version": "3.12.7"
  }
 },
 "nbformat": 4,
 "nbformat_minor": 5
}
