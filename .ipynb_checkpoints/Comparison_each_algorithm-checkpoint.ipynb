{
 "cells": [
  {
   "cell_type": "markdown",
   "id": "f0240cf9-5302-4141-a168-47bd1e5fd9e0",
   "metadata": {},
   "source": [
    "# Comparison each algorithm and Hybrid Classifier"
   ]
  },
  {
   "cell_type": "markdown",
   "id": "f861a408-7aaa-4fd0-aef8-13c9c252a263",
   "metadata": {
    "jp-MarkdownHeadingCollapsed": true
   },
   "source": [
    "## Each Classifiers + BoW"
   ]
  },
  {
   "cell_type": "markdown",
   "id": "d4ae3715-b75f-4cf7-904c-9cbc3cffc618",
   "metadata": {},
   "source": [
    "From all tables in every method, the result of classification can be averaged using the formula:\n",
    "\n",
    "$$\n",
    "\\text{Average Accuracy} = \\frac{\\text{Total sum of all accuracy aspects}}{\\text{Number of aspects}}\n",
    "$$"
   ]
  },
  {
   "cell_type": "markdown",
   "id": "a1f9dcc4-8ab4-4eed-8fa7-05b809abe463",
   "metadata": {},
   "source": [
    "### Random Forest & BoW "
   ]
  },
  {
   "cell_type": "code",
   "execution_count": 2,
   "id": "2a893312-f48f-44c8-b5e0-785e1f3240f9",
   "metadata": {},
   "outputs": [
    {
     "name": "stdout",
     "output_type": "stream",
     "text": [
      "Average Accuracy (Random Forest + BoW): 0.9300\n",
      "Average Accuracy (Random Forest + BoW) dalam persen: 93.00%\n"
     ]
    }
   ],
   "source": [
    "# Akurasi untuk setiap aspek dari hasil classification_report\n",
    "accuracy_rf_bow_per_aspect = [\n",
    "    0.97,  # ac\n",
    "    0.96,  # air_panas\n",
    "    0.92,  # bau\n",
    "    0.89,  # general\n",
    "    0.86,  # kebersihan\n",
    "    0.89,  # linen\n",
    "    0.91,  # service\n",
    "    0.95,  # sunrise_meal\n",
    "    0.97,  # tv\n",
    "    0.98   # wifi\n",
    "]\n",
    "\n",
    "# Hitung rata-rata akurasi\n",
    "average_accuracy_rf_bow = sum(accuracy_rf_bow_per_aspect) / len(accuracy_rf_bow_per_aspect)\n",
    "\n",
    "print(f\"Average Accuracy (Random Forest + BoW): {average_accuracy_rf_bow:.4f}\")\n",
    "print(f\"Average Accuracy (Random Forest + BoW) dalam persen: {average_accuracy_rf_bow:.2%}\")"
   ]
  },
  {
   "cell_type": "markdown",
   "id": "dcefff79-2c29-42eb-8837-c459f74c2c4a",
   "metadata": {},
   "source": [
    "### Support Vector Machine & BoW"
   ]
  },
  {
   "cell_type": "code",
   "execution_count": 5,
   "id": "ca5ded5a-ac87-47de-b099-fbd45691b265",
   "metadata": {},
   "outputs": [
    {
     "name": "stdout",
     "output_type": "stream",
     "text": [
      "Average Accuracy (SVM + BoW): 0.9290\n",
      "Average Accuracy (SVM + BoW) dalam persen: 92.90%\n"
     ]
    }
   ],
   "source": [
    "# Akurasi untuk setiap aspek dari hasil classification_report\n",
    "accuracy_svm_bow_per_aspect = [\n",
    "    0.97,  # ac\n",
    "    0.95,  # air_panas\n",
    "    0.93,  # bau\n",
    "    0.87,  # general\n",
    "    0.85,  # kebersihan\n",
    "    0.90,  # linen\n",
    "    0.89,  # service\n",
    "    0.96,  # sunrise_meal\n",
    "    0.98,  # tv\n",
    "    0.99   # wifi\n",
    "]\n",
    "\n",
    "# Hitung rata-rata akurasi\n",
    "average_accuracy_svm_bow = sum(accuracy_svm_bow_per_aspect) / len(accuracy_svm_bow_per_aspect)\n",
    "\n",
    "print(f\"Average Accuracy (SVM + BoW): {average_accuracy_svm_bow:.4f}\")\n",
    "print(f\"Average Accuracy (SVM + BoW) dalam persen: {average_accuracy_svm_bow:.2%}\")"
   ]
  },
  {
   "cell_type": "markdown",
   "id": "c14a056b-7e89-4caa-8b2d-4c40725acb0f",
   "metadata": {},
   "source": [
    "### Multinomial naive bayes"
   ]
  },
  {
   "cell_type": "code",
   "execution_count": 6,
   "id": "3491765f-1f77-4fdf-9a83-55d1f9392ccb",
   "metadata": {},
   "outputs": [
    {
     "name": "stdout",
     "output_type": "stream",
     "text": [
      "Average Accuracy (Naive Bayes + BoW): 0.7620\n",
      "Average Accuracy (Naive Bayes + BoW) dalam persen: 76.20%\n"
     ]
    }
   ],
   "source": [
    "# Akurasi untuk setiap aspek dari hasil classification_report\n",
    "accuracy_nb_bow_per_aspect = [\n",
    "    0.77,  # ac\n",
    "    0.80,  # air_panas\n",
    "    0.77,  # bau\n",
    "    0.70,  # general\n",
    "    0.68,  # kebersihan\n",
    "    0.73,  # linen\n",
    "    0.76,  # service\n",
    "    0.74,  # sunrise_meal\n",
    "    0.82,  # tv\n",
    "    0.85   # wifi\n",
    "]\n",
    "\n",
    "# Hitung rata-rata akurasi\n",
    "average_accuracy_nb_bow = sum(accuracy_nb_bow_per_aspect) / len(accuracy_nb_bow_per_aspect)\n",
    "\n",
    "print(f\"Average Accuracy (Naive Bayes + BoW): {average_accuracy_nb_bow:.4f}\")\n",
    "print(f\"Average Accuracy (Naive Bayes + BoW) dalam persen: {average_accuracy_nb_bow:.2%}\")"
   ]
  },
  {
   "cell_type": "markdown",
   "id": "d0b18fa4-99e9-45bb-b093-28df89859365",
   "metadata": {},
   "source": [
    "### K-NN & BoW"
   ]
  },
  {
   "cell_type": "code",
   "execution_count": 7,
   "id": "09ed3ac0-55db-41c8-8b41-e263f4fac377",
   "metadata": {},
   "outputs": [
    {
     "name": "stdout",
     "output_type": "stream",
     "text": [
      "Average Accuracy (KNN + BoW): 0.8540\n",
      "Average Accuracy (KNN + BoW) dalam persen: 85.40%\n"
     ]
    }
   ],
   "source": [
    "# Akurasi untuk setiap aspek dari hasil classification_report\n",
    "accuracy_knn_bow_per_aspect = [\n",
    "    0.93,  # ac\n",
    "    0.94,  # air_panas\n",
    "    0.85,  # bau\n",
    "    0.83,  # general\n",
    "    0.72,  # kebersihan\n",
    "    0.76,  # linen\n",
    "    0.80,  # service\n",
    "    0.92,  # sunrise_meal\n",
    "    0.90,  # tv\n",
    "    0.89   # wifi\n",
    "]\n",
    "\n",
    "# Hitung rata-rata akurasi\n",
    "average_accuracy_knn_bow = sum(accuracy_knn_bow_per_aspect) / len(accuracy_knn_bow_per_aspect)\n",
    "\n",
    "print(f\"Average Accuracy (KNN + BoW): {average_accuracy_knn_bow:.4f}\")\n",
    "print(f\"Average Accuracy (KNN + BoW) dalam persen: {average_accuracy_knn_bow:.2%}\")"
   ]
  },
  {
   "cell_type": "markdown",
   "id": "68acd35c-9f76-4ebe-91f5-f5ef5d75a633",
   "metadata": {},
   "source": [
    "### Hybrid Classifier & BoW"
   ]
  },
  {
   "cell_type": "code",
   "execution_count": 8,
   "id": "19a0a8dc-ef0f-4362-9c73-c24b8d916c7a",
   "metadata": {},
   "outputs": [
    {
     "name": "stdout",
     "output_type": "stream",
     "text": [
      "Average Accuracy (Hybrid + BoW): 0.9270\n",
      "Average Accuracy (Hybrid + BoW) dalam persen: 92.70%\n"
     ]
    }
   ],
   "source": [
    "# Akurasi untuk setiap aspek dari hasil classification_report\n",
    "accuracy_hybrid_bow_per_aspect = [\n",
    "    0.96,  # ac\n",
    "    0.94,  # air_panas\n",
    "    0.94,  # bau\n",
    "    0.89,  # general\n",
    "    0.85,  # kebersihan\n",
    "    0.90,  # linen\n",
    "    0.87,  # service\n",
    "    0.95,  # sunrise_meal\n",
    "    0.98,  # tv\n",
    "    0.99   # wifi\n",
    "]\n",
    "\n",
    "# Hitung rata-rata akurasi\n",
    "average_accuracy_hybrid_bow = sum(accuracy_hybrid_bow_per_aspect) / len(accuracy_hybrid_bow_per_aspect)\n",
    "\n",
    "print(f\"Average Accuracy (Hybrid + BoW): {average_accuracy_hybrid_bow:.4f}\")\n",
    "print(f\"Average Accuracy (Hybrid + BoW) dalam persen: {average_accuracy_hybrid_bow:.2%}\")"
   ]
  },
  {
   "cell_type": "code",
   "execution_count": 12,
   "id": "9cac9a7b-2915-4aa3-8421-d1a9d9e536e0",
   "metadata": {},
   "outputs": [
    {
     "name": "stdout",
     "output_type": "stream",
     "text": [
      "Average Accuracy (Hybrid + BoW): 0.9340\n",
      "Average Accuracy (Hybrid + BoW) dalam persen: 93.40%\n"
     ]
    }
   ],
   "source": [
    "# Akurasi untuk setiap aspek dari hasil classification_report\n",
    "accuracy_hybrid_bow_per_aspect = [\n",
    "    0.97,  # ac\n",
    "    0.95,  # air_panas\n",
    "    0.92,  # bau\n",
    "    0.90,  # general\n",
    "    0.85,  # kebersihan\n",
    "    0.90,  # linen\n",
    "    0.93,  # service\n",
    "    0.95,  # sunrise_meal\n",
    "    0.98,  # tv\n",
    "    0.99   # wifi\n",
    "]\n",
    "\n",
    "# Hitung rata-rata akurasi\n",
    "average_accuracy_hybrid_bow = sum(accuracy_hybrid_bow_per_aspect) / len(accuracy_hybrid_bow_per_aspect)\n",
    "\n",
    "print(f\"Average Accuracy (Hybrid + BoW): {average_accuracy_hybrid_bow:.4f}\")\n",
    "print(f\"Average Accuracy (Hybrid + BoW) dalam persen: {average_accuracy_hybrid_bow:.2%}\")"
   ]
  },
  {
   "cell_type": "code",
   "execution_count": 15,
   "id": "c61c9830-40ff-4445-9637-031fbeab1e05",
   "metadata": {},
   "outputs": [
    {
     "name": "stderr",
     "output_type": "stream",
     "text": [
      "C:\\Users\\LENOVO\\AppData\\Local\\Temp\\ipykernel_1600\\308568965.py:40: UserWarning: Glyph 128202 (\\N{BAR CHART}) missing from font(s) Arial.\n",
      "  plt.tight_layout()\n",
      "C:\\Users\\LENOVO\\anaconda3\\Lib\\site-packages\\IPython\\core\\pylabtools.py:170: UserWarning: Glyph 128202 (\\N{BAR CHART}) missing from font(s) Arial.\n",
      "  fig.canvas.print_figure(bytes_io, **kw)\n"
     ]
    },
    {
     "data": {
      "image/png": "[encoded data removed]",
      "text/plain": [
       "<Figure size 1000x600 with 1 Axes>"
      ]
     },
     "metadata": {},
     "output_type": "display_data"
    }
   ],
   "source": [
    "import pandas as pd\n",
    "import seaborn as sns\n",
    "import matplotlib.pyplot as plt\n",
    "\n",
    "# Data\n",
    "data = {\n",
    "    'Model': ['Random Forest', 'SVM', 'K-NN', 'Naive Bayes', 'Hybrid'],\n",
    "    'Average Accuracy (%)': [93.00, 92.90, 85.40, 76.20, 93.40]\n",
    "}\n",
    "df = pd.DataFrame(data)\n",
    "\n",
    "# Atur font emoji (jika mau pakai emoji)\n",
    "plt.rcParams['font.family'] = 'Segoe UI Emoji'  # Optional\n",
    "\n",
    "# Set style\n",
    "sns.set(style=\"whitegrid\")\n",
    "plt.figure(figsize=(10, 6))\n",
    "\n",
    "# Palet warna\n",
    "colors = sns.color_palette(\"viridis\", len(df))\n",
    "\n",
    "# Plot dengan hue agar warning hilang\n",
    "barplot = sns.barplot(data=df, x='Model', y='Average Accuracy (%)', hue='Model',\n",
    "                      palette=colors, legend=False)\n",
    "\n",
    "# Tambahkan anotasi\n",
    "for i, value in enumerate(df['Average Accuracy (%)']):\n",
    "    barplot.text(i, value + 0.8, f'{value:.2f}%', ha='center', va='bottom', fontsize=11, fontweight='bold')\n",
    "\n",
    "# Judul dan label\n",
    "plt.ylim(70, 96)\n",
    "plt.title('📊 Perbandingan Rata-rata Akurasi Tiap Model Classifier (BoW)', fontsize=14, fontweight='bold')\n",
    "plt.xlabel('Model', fontsize=12)\n",
    "plt.ylabel('Average Accuracy (%)', fontsize=12)\n",
    "\n",
    "# Tampilan grid\n",
    "plt.grid(axis='y', linestyle='--', alpha=0.6)\n",
    "plt.xticks(fontsize=11)\n",
    "plt.yticks(fontsize=11)\n",
    "plt.tight_layout()\n",
    "plt.show()"
   ]
  },
  {
   "cell_type": "markdown",
   "id": "d0f46c35-8993-4c5e-9c93-812351ce222e",
   "metadata": {},
   "source": [
    "## Each Classifiers + TF-IDF"
   ]
  },
  {
   "cell_type": "markdown",
   "id": "06d3d5f1-51ad-4d94-9f69-8797e4607d99",
   "metadata": {},
   "source": [
    "From all tables in every method, the result of classification can be averaged using the formula:\n",
    "\n",
    "$$\n",
    "\\text{Average Accuracy} = \\frac{\\text{Total sum of all accuracy aspects}}{\\text{Number of aspects}}\n",
    "$$"
   ]
  },
  {
   "cell_type": "markdown",
   "id": "ca4d11b6-1b91-41b7-bf56-ac473edb82e6",
   "metadata": {},
   "source": [
    "### Random Forest & TF-IDF"
   ]
  },
  {
   "cell_type": "code",
   "execution_count": 4,
   "id": "9553b5a3-5759-454f-b55d-3556f04a2c28",
   "metadata": {},
   "outputs": [
    {
     "name": "stdout",
     "output_type": "stream",
     "text": [
      "Average Accuracy (Random Forest + tfidf): 0.9300\n",
      "Average Accuracy (Random Forest + tfidf) dalam persen: 93.00%\n"
     ]
    }
   ],
   "source": [
    "# Akurasi untuk setiap aspek dari hasil classification_report\n",
    "accuracy_rf_tfidf_per_aspect = [\n",
    "    0.97,  # ac\n",
    "    0.96,  # air_panas\n",
    "    0.92,  # bau\n",
    "    0.89,  # general\n",
    "    0.86,  # kebersihan\n",
    "    0.89,  # linen\n",
    "    0.91,  # service\n",
    "    0.95,  # sunrise_meal\n",
    "    0.97,  # tv\n",
    "    0.98   # wifi\n",
    "]\n",
    "\n",
    "# Hitung rata-rata akurasi\n",
    "average_accuracy_rf_tfidf = sum(accuracy_rf_tfidf_per_aspect) / len(accuracy_rf_tfidf_per_aspect)\n",
    "\n",
    "print(f\"Average Accuracy (Random Forest + tfidf): {average_accuracy_rf_tfidf:.4f}\")\n",
    "print(f\"Average Accuracy (Random Forest + tfidf) dalam persen: {average_accuracy_rf_tfidf:.2%}\")"
   ]
  },
  {
   "cell_type": "markdown",
   "id": "4a08f3ac-2fcf-4d41-a1f1-879570d12f03",
   "metadata": {},
   "source": [
    "### Support Vector Machine & TF-IDF"
   ]
  },
  {
   "cell_type": "code",
   "execution_count": 6,
   "id": "40cfc425-d0e7-4ea4-9415-3d9ee77673ae",
   "metadata": {},
   "outputs": [
    {
     "name": "stdout",
     "output_type": "stream",
     "text": [
      "Average Accuracy (SVM + tfidf): 0.9330\n",
      "Average Accuracy (SVM + tfidf) dalam persen: 93.30%\n"
     ]
    }
   ],
   "source": [
    "# Akurasi untuk setiap aspek dari hasil classification_report\n",
    "accuracy_svm_tfidf_per_aspect = [\n",
    "    0.97,  # ac\n",
    "    0.95,  # air_panas\n",
    "    0.93,  # bau\n",
    "    0.87,  # general\n",
    "    0.87,  # kebersihan\n",
    "    0.91,  # linen\n",
    "    0.90,  # service\n",
    "    0.96,  # sunrise_meal\n",
    "    0.98,  # tv\n",
    "    0.99   # wifi\n",
    "]\n",
    "\n",
    "# Hitung rata-rata akurasi\n",
    "average_accuracy_svm_tfidf = sum(accuracy_svm_tfidf_per_aspect) / len(accuracy_svm_tfidf_per_aspect)\n",
    "\n",
    "print(f\"Average Accuracy (SVM + tfidf): {average_accuracy_svm_tfidf:.4f}\")\n",
    "print(f\"Average Accuracy (SVM + tfidf) dalam persen: {average_accuracy_svm_tfidf:.2%}\")"
   ]
  },
  {
   "cell_type": "markdown",
   "id": "8effc645-8a3c-4de7-a017-8a1857cdbf9e",
   "metadata": {},
   "source": [
    "### Multinomial Naive Bayes & TF-IDF "
   ]
  },
  {
   "cell_type": "code",
   "execution_count": 9,
   "id": "8d97e27e-61fd-4148-af6c-0c3f68ab5682",
   "metadata": {},
   "outputs": [
    {
     "name": "stdout",
     "output_type": "stream",
     "text": [
      "Average Accuracy (Naive Bayes + tfidf): 0.7390\n",
      "Average Accuracy (Naive Bayes + tfidf) dalam persen: 73.90%\n"
     ]
    }
   ],
   "source": [
    "# Akurasi untuk setiap aspek dari hasil classification_report\n",
    "accuracy_nb_tfidf_per_aspect = [\n",
    "    0.71,  # ac\n",
    "    0.78,  # air_panas\n",
    "    0.76,  # bau\n",
    "    0.68,  # general\n",
    "    0.62,  # kebersihan\n",
    "    0.71,  # linen\n",
    "    0.74,  # service\n",
    "    0.74,  # sunrise_meal\n",
    "    0.83,  # tv\n",
    "    0.82   # wifi\n",
    "]\n",
    "\n",
    "# Hitung rata-rata akurasi\n",
    "average_accuracy_nb_tfidf = sum(accuracy_nb_tfidf_per_aspect) / len(accuracy_nb_tfidf_per_aspect)\n",
    "\n",
    "print(f\"Average Accuracy (Naive Bayes + tfidf): {average_accuracy_nb_tfidf:.4f}\")\n",
    "print(f\"Average Accuracy (Naive Bayes + tfidf) dalam persen: {average_accuracy_nb_tfidf:.2%}\")"
   ]
  },
  {
   "cell_type": "markdown",
   "id": "6ccb3ca7-b326-45d5-b409-ff41917b4916",
   "metadata": {},
   "source": [
    "### K-NN & TF-IDF "
   ]
  },
  {
   "cell_type": "code",
   "execution_count": 10,
   "id": "6541132b-2820-4837-b9bc-4b78ebda7da1",
   "metadata": {},
   "outputs": [
    {
     "name": "stdout",
     "output_type": "stream",
     "text": [
      "Average Accuracy (KNN + tfidf): 0.7800\n",
      "Average Accuracy (KNN + tfidf) dalam persen: 78.00%\n"
     ]
    }
   ],
   "source": [
    "# Akurasi untuk setiap aspek dari hasil classification_report\n",
    "accuracy_knn_tfidf_per_aspect = [\n",
    "    0.73,  # ac\n",
    "    0.82,  # air_panas\n",
    "    0.79,  # bau\n",
    "    0.76,  # general\n",
    "    0.59,  # kebersihan\n",
    "    0.77,  # linen\n",
    "    0.70,  # service\n",
    "    0.88,  # sunrise_meal\n",
    "    0.90,  # tv\n",
    "    0.86   # wifi\n",
    "]\n",
    "\n",
    "# Hitung rata-rata akurasi\n",
    "average_accuracy_knn_tfidf = sum(accuracy_knn_tfidf_per_aspect) / len(accuracy_knn_tfidf_per_aspect)\n",
    "\n",
    "print(f\"Average Accuracy (KNN + tfidf): {average_accuracy_knn_tfidf:.4f}\")\n",
    "print(f\"Average Accuracy (KNN + tfidf) dalam persen: {average_accuracy_knn_tfidf:.2%}\")"
   ]
  },
  {
   "cell_type": "markdown",
   "id": "5285c8a1-8579-4196-982f-a2fb0b30056d",
   "metadata": {},
   "source": [
    "### Hybrid Classifier & TF-IDF "
   ]
  },
  {
   "cell_type": "code",
   "execution_count": 11,
   "id": "cf5772c6-3b0f-4468-9fec-89dfe477eb28",
   "metadata": {},
   "outputs": [
    {
     "name": "stdout",
     "output_type": "stream",
     "text": [
      "Average Accuracy (Hybrid + tfidf): 0.9340\n",
      "Average Accuracy (Hybrid + tfidf) dalam persen: 93.40%\n"
     ]
    }
   ],
   "source": [
    "# Akurasi untuk setiap aspek dari hasil classification_report\n",
    "accuracy_hybrid_tfidf_per_aspect = [\n",
    "    0.97,  # ac\n",
    "    0.95,  # air_panas\n",
    "    0.93,  # bau\n",
    "    0.89,  # general\n",
    "    0.85,  # kebersihan\n",
    "    0.91,  # linen\n",
    "    0.92,  # service\n",
    "    0.95,  # sunrise_meal\n",
    "    0.98,  # tv\n",
    "    0.99   # wifi\n",
    "]\n",
    "\n",
    "# Hitung rata-rata akurasi\n",
    "average_accuracy_hybrid_tfidf = sum(accuracy_hybrid_tfidf_per_aspect) / len(accuracy_hybrid_tfidf_per_aspect)\n",
    "\n",
    "print(f\"Average Accuracy (Hybrid + tfidf): {average_accuracy_hybrid_tfidf:.4f}\")\n",
    "print(f\"Average Accuracy (Hybrid + tfidf) dalam persen: {average_accuracy_hybrid_tfidf:.2%}\")"
   ]
  },
  {
   "cell_type": "markdown",
   "id": "d33e7783-f4c9-474b-b699-bd71abf9f906",
   "metadata": {},
   "source": [
    "### Comparison each classfiers "
   ]
  },
  {
   "cell_type": "code",
   "execution_count": 12,
   "id": "475a6f9f-366e-49bd-ae6b-d31fbe81d082",
   "metadata": {},
   "outputs": [
    {
     "name": "stderr",
     "output_type": "stream",
     "text": [
      "C:\\Users\\LENOVO\\AppData\\Local\\Temp\\ipykernel_6356\\3257116056.py:40: UserWarning: Glyph 128202 (\\N{BAR CHART}) missing from font(s) Arial.\n",
      "  plt.tight_layout()\n",
      "C:\\Users\\LENOVO\\anaconda3\\Lib\\site-packages\\IPython\\core\\pylabtools.py:170: UserWarning: Glyph 128202 (\\N{BAR CHART}) missing from font(s) Arial.\n",
      "  fig.canvas.print_figure(bytes_io, **kw)\n"
     ]
    },
    {
     "data": {
      "image/png": "[encoded data removed]",
      "text/plain": [
       "<Figure size 1000x600 with 1 Axes>"
      ]
     },
     "metadata": {},
     "output_type": "display_data"
    }
   ],
   "source": [
    "import pandas as pd\n",
    "import seaborn as sns\n",
    "import matplotlib.pyplot as plt\n",
    "\n",
    "# Data\n",
    "data = {\n",
    "    'Model': ['Random Forest', 'SVM', 'K-NN', 'Naive Bayes', 'Hybrid'],\n",
    "    'Average Accuracy (%)': [93.00, 93.30, 78.00, 73.90, 93.40]\n",
    "}\n",
    "df = pd.DataFrame(data)\n",
    "\n",
    "# Atur font emoji (jika mau pakai emoji)\n",
    "plt.rcParams['font.family'] = 'Segoe UI Emoji'  # Optional\n",
    "\n",
    "# Set style\n",
    "sns.set(style=\"whitegrid\")\n",
    "plt.figure(figsize=(10, 6))\n",
    "\n",
    "# Palet warna\n",
    "colors = sns.color_palette(\"viridis\", len(df))\n",
    "\n",
    "# Plot dengan hue agar warning hilang\n",
    "barplot = sns.barplot(data=df, x='Model', y='Average Accuracy (%)', hue='Model',\n",
    "                      palette=colors, legend=False)\n",
    "\n",
    "# Tambahkan anotasi\n",
    "for i, value in enumerate(df['Average Accuracy (%)']):\n",
    "    barplot.text(i, value + 0.8, f'{value:.2f}%', ha='center', va='bottom', fontsize=11, fontweight='bold')\n",
    "\n",
    "# Judul dan label\n",
    "plt.ylim(70, 96)\n",
    "plt.title('📊 Perbandingan Rata-rata Akurasi Tiap Model Classifier (TF-IDF)', fontsize=14, fontweight='bold')\n",
    "plt.xlabel('Model', fontsize=12)\n",
    "plt.ylabel('Average Accuracy (%)', fontsize=12)\n",
    "\n",
    "# Tampilan grid\n",
    "plt.grid(axis='y', linestyle='--', alpha=0.6)\n",
    "plt.xticks(fontsize=11)\n",
    "plt.yticks(fontsize=11)\n",
    "plt.tight_layout()\n",
    "plt.show()"
   ]
  },
  {
   "cell_type": "markdown",
   "id": "fd4c8913-4f54-4047-aa0d-5a787941e26d",
   "metadata": {},
   "source": [
    "## Each Classifiers & Word2Vec"
   ]
  },
  {
   "cell_type": "markdown",
   "id": "8f8c2da8-599c-484e-9bf6-4cbac65b0412",
   "metadata": {},
   "source": [
    "From all tables in every method, the result of classification can be averaged using the formula:\n",
    "\n",
    "$$\n",
    "\\text{Average Accuracy} = \\frac{\\text{Total sum of all accuracy aspects}}{\\text{Number of aspects}}\n",
    "$$"
   ]
  },
  {
   "cell_type": "markdown",
   "id": "8eea7241-ae2e-4c2c-9bb2-ec149d590046",
   "metadata": {},
   "source": [
    "### Random Forest & w2v"
   ]
  },
  {
   "cell_type": "code",
   "execution_count": 13,
   "id": "6b3bf7b9-adf5-4d60-8817-0af3f38b8e3b",
   "metadata": {},
   "outputs": [
    {
     "name": "stdout",
     "output_type": "stream",
     "text": [
      "Average Accuracy (Random Forest + w2v): 0.8610\n",
      "Average Accuracy (Random Forest + w2v) dalam persen: 86.10%\n"
     ]
    }
   ],
   "source": [
    "# Akurasi untuk setiap aspek dari hasil classification_report\n",
    "accuracy_rf_w2v_per_aspect = [\n",
    "    0.90,  # ac\n",
    "    0.92,  # air_panas\n",
    "    0.87,  # bau\n",
    "    0.85,  # general\n",
    "    0.70,  # kebersihan\n",
    "    0.83,  # linen\n",
    "    0.81,  # service\n",
    "    0.92,  # sunrise_meal\n",
    "    0.91,  # tv\n",
    "    0.90   # wifi\n",
    "]\n",
    "\n",
    "# Hitung rata-rata akurasi\n",
    "average_accuracy_rf_w2v = sum(accuracy_rf_w2v_per_aspect) / len(accuracy_rf_w2v_per_aspect)\n",
    "\n",
    "print(f\"Average Accuracy (Random Forest + w2v): {average_accuracy_rf_w2v:.4f}\")\n",
    "print(f\"Average Accuracy (Random Forest + w2v) dalam persen: {average_accuracy_rf_w2v:.2%}\")"
   ]
  },
  {
   "cell_type": "markdown",
   "id": "5ecc66b9-b1ee-4172-96cd-526c92a406d4",
   "metadata": {},
   "source": [
    "### Support Vector Machine & w2v"
   ]
  },
  {
   "cell_type": "code",
   "execution_count": 14,
   "id": "cbdffe7e-6448-4464-bef0-0d6f5a6be14c",
   "metadata": {},
   "outputs": [
    {
     "name": "stdout",
     "output_type": "stream",
     "text": [
      "Average Accuracy (SVM + w2v): 0.4160\n",
      "Average Accuracy (SVM + w2v) dalam persen: 41.60%\n"
     ]
    }
   ],
   "source": [
    "# Akurasi untuk setiap aspek dari hasil classification_report\n",
    "accuracy_svm_w2v_per_aspect = [\n",
    "    0.41,  # ac\n",
    "    0.74,  # air_panas\n",
    "    0.45,  # bau\n",
    "    0.36,  # general\n",
    "    0.41,  # kebersihan\n",
    "    0.26,  # linen\n",
    "    0.44,  # service\n",
    "    0.34,  # sunrise_meal\n",
    "    0.27,  # tv\n",
    "    0.48   # wifi\n",
    "]\n",
    "\n",
    "# Hitung rata-rata akurasi\n",
    "average_accuracy_svm_w2v = sum(accuracy_svm_w2v_per_aspect) / len(accuracy_svm_w2v_per_aspect)\n",
    "\n",
    "print(f\"Average Accuracy (SVM + w2v): {average_accuracy_svm_w2v:.4f}\")\n",
    "print(f\"Average Accuracy (SVM + w2v) dalam persen: {average_accuracy_svm_w2v:.2%}\")"
   ]
  },
  {
   "cell_type": "markdown",
   "id": "ee40f166-a3e6-41e5-9547-2080b3d8a0d8",
   "metadata": {},
   "source": [
    "### Multinomial Naive Bayes & w2v\n",
    "Naive Bayes tidak di gabungkan dengan Word2Vec"
   ]
  },
  {
   "cell_type": "markdown",
   "id": "e99d72a9-10fb-484b-ac72-2cd5f263723a",
   "metadata": {},
   "source": [
    "### K-NN & w2v"
   ]
  },
  {
   "cell_type": "code",
   "execution_count": 15,
   "id": "4943d500-1704-4e1e-b29b-2314735c178d",
   "metadata": {},
   "outputs": [
    {
     "name": "stdout",
     "output_type": "stream",
     "text": [
      "Average Accuracy (KNN + w2v): 0.7060\n",
      "Average Accuracy (KNN + w2v) dalam persen: 70.60%\n"
     ]
    }
   ],
   "source": [
    "# Akurasi untuk setiap aspek dari hasil classification_report\n",
    "accuracy_knn_w2v_per_aspect = [\n",
    "    0.71,  # ac\n",
    "    0.80,  # air_panas\n",
    "    0.65,  # bau\n",
    "    0.65,  # general\n",
    "    0.57,  # kebersihan\n",
    "    0.66,  # linen\n",
    "    0.84,  # service\n",
    "    0.71,  # sunrise_meal\n",
    "    0.78,  # tv\n",
    "    0.69   # wifi\n",
    "]\n",
    "\n",
    "# Hitung rata-rata akurasi\n",
    "average_accuracy_knn_w2v = sum(accuracy_knn_w2v_per_aspect) / len(accuracy_knn_w2v_per_aspect)\n",
    "\n",
    "print(f\"Average Accuracy (KNN + w2v): {average_accuracy_knn_w2v:.4f}\")\n",
    "print(f\"Average Accuracy (KNN + w2v) dalam persen: {average_accuracy_knn_w2v:.2%}\")"
   ]
  },
  {
   "cell_type": "markdown",
   "id": "fcb97790-faa1-40cd-82d0-70604c72e8ec",
   "metadata": {},
   "source": [
    "### Hybrid Classifier & w2v"
   ]
  },
  {
   "cell_type": "code",
   "execution_count": 16,
   "id": "5bca49a8-ba42-4a21-b8d1-f84a097b2cc3",
   "metadata": {},
   "outputs": [
    {
     "name": "stdout",
     "output_type": "stream",
     "text": [
      "Average Accuracy (Hybrid + w2v): 0.8570\n",
      "Average Accuracy (Hybrid + w2v) dalam persen: 85.70%\n"
     ]
    }
   ],
   "source": [
    "# Akurasi untuk setiap aspek dari hasil classification_report\n",
    "accuracy_hybrid_w2v_per_aspect = [\n",
    "    0.88,  # ac\n",
    "    0.92,  # air_panas\n",
    "    0.88,  # bau\n",
    "    0.85,  # general\n",
    "    0.70,  # kebersihan\n",
    "    0.82,  # linen\n",
    "    0.81,  # service\n",
    "    0.92,  # sunrise_meal\n",
    "    0.90,  # tv\n",
    "    0.89   # wifi\n",
    "]\n",
    "\n",
    "# Hitung rata-rata akurasi\n",
    "average_accuracy_hybrid_w2v = sum(accuracy_hybrid_w2v_per_aspect) / len(accuracy_hybrid_w2v_per_aspect)\n",
    "\n",
    "print(f\"Average Accuracy (Hybrid + w2v): {average_accuracy_hybrid_w2v:.4f}\")\n",
    "print(f\"Average Accuracy (Hybrid + w2v) dalam persen: {average_accuracy_hybrid_w2v:.2%}\")"
   ]
  },
  {
   "cell_type": "markdown",
   "id": "2d261919-bfd4-49fd-bf49-a0cc4bdde938",
   "metadata": {},
   "source": [
    "### Comparison each classifiers"
   ]
  },
  {
   "cell_type": "code",
   "execution_count": 19,
   "id": "4ce1d066-1e26-4efa-aaf3-0a820f8895e2",
   "metadata": {},
   "outputs": [
    {
     "name": "stderr",
     "output_type": "stream",
     "text": [
      "C:\\Users\\LENOVO\\AppData\\Local\\Temp\\ipykernel_6356\\325772030.py:41: UserWarning: Glyph 128202 (\\N{BAR CHART}) missing from font(s) Arial.\n",
      "  plt.tight_layout()\n",
      "C:\\Users\\LENOVO\\anaconda3\\Lib\\site-packages\\IPython\\core\\pylabtools.py:170: UserWarning: Glyph 128202 (\\N{BAR CHART}) missing from font(s) Arial.\n",
      "  fig.canvas.print_figure(bytes_io, **kw)\n"
     ]
    },
    {
     "data": {
      "image/png": "[encoded data removed]",
      "text/plain": [
       "<Figure size 1000x600 with 1 Axes>"
      ]
     },
     "metadata": {},
     "output_type": "display_data"
    }
   ],
   "source": [
    "import pandas as pd\n",
    "import seaborn as sns\n",
    "import matplotlib.pyplot as plt\n",
    "\n",
    "# Data\n",
    "data = {\n",
    "    'Model': ['Random Forest', 'SVM', 'K-NN', 'Hybrid'],\n",
    "    'Average Accuracy (%)': [86.10, 41.60, 70.60, 85.70]\n",
    "}\n",
    "\n",
    "df = pd.DataFrame(data)\n",
    "\n",
    "# Atur font emoji (jika mau pakai emoji)\n",
    "plt.rcParams['font.family'] = 'Segoe UI Emoji'  # Optional\n",
    "\n",
    "# Set style\n",
    "sns.set(style=\"whitegrid\")\n",
    "plt.figure(figsize=(10, 6))\n",
    "\n",
    "# Palet warna\n",
    "colors = sns.color_palette(\"viridis\", len(df))\n",
    "\n",
    "# Plot dengan hue agar warning hilang\n",
    "barplot = sns.barplot(data=df, x='Model', y='Average Accuracy (%)', hue='Model',\n",
    "                      palette=colors, legend=False)\n",
    "\n",
    "# Tambahkan anotasi\n",
    "for i, value in enumerate(df['Average Accuracy (%)']):\n",
    "    barplot.text(i, value + 0.8, f'{value:.2f}%', ha='center', va='bottom', fontsize=11, fontweight='bold')\n",
    "\n",
    "# Judul dan label\n",
    "plt.ylim(30, 96)\n",
    "plt.title('📊 Perbandingan Rata-rata Akurasi Tiap Model Classifier (TF-IDF)', fontsize=14, fontweight='bold')\n",
    "plt.xlabel('Model', fontsize=12)\n",
    "plt.ylabel('Average Accuracy (%)', fontsize=12)\n",
    "\n",
    "# Tampilan grid\n",
    "plt.grid(axis='y', linestyle='--', alpha=0.6)\n",
    "plt.xticks(fontsize=11)\n",
    "plt.yticks(fontsize=11)\n",
    "plt.tight_layout()\n",
    "plt.show()"
   ]
  },
  {
   "cell_type": "code",
   "execution_count": null,
   "id": "8a3800af-3a25-4e70-a174-b0c28285063a",
   "metadata": {},
   "outputs": [],
   "source": []
  }
 ],
 "metadata": {
  "kernelspec": {
   "display_name": "Python 3 (ipykernel)",
   "language": "python",
   "name": "python3"
  },
  "language_info": {
   "codemirror_mode": {
    "name": "ipython",
    "version": 3
   },
   "file_extension": ".py",
   "mimetype": "text/x-python",
   "name": "python",
   "nbconvert_exporter": "python",
   "pygments_lexer": "ipython3",
   "version": "3.12.7"
  }
 },
 "nbformat": 4,
 "nbformat_minor": 5
}
