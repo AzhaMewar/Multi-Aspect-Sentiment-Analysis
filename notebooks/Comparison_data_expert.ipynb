{
 "cells": [
  {
   "cell_type": "markdown",
   "id": "a6634ef2-8626-4f55-b67a-05219d107586",
   "metadata": {},
   "source": [
    "# Comparison each algorithm and Hybrid Classifier"
   ]
  },
  {
   "cell_type": "markdown",
   "id": "794f9927-e945-43ef-8f39-9aa527c7397e",
   "metadata": {},
   "source": [
    "## Each Classifiers + Word2Vec"
   ]
  },
  {
   "cell_type": "markdown",
   "id": "cf080de4-9cbf-4a33-90bf-302ca15dfec7",
   "metadata": {},
   "source": [
    "From all tables in every method, the result of classification can be averaged using the formula:\n",
    "\n",
    "$$\n",
    "\\text{Average Accuracy} = \\frac{\\text{Total sum of all accuracy aspects}}{\\text{Number of aspects}}\n",
    "$$"
   ]
  },
  {
   "cell_type": "markdown",
   "id": "21c28459-e0f7-43c6-b684-85ef58429b6c",
   "metadata": {},
   "source": [
    "### Random Forest and Word2Vec"
   ]
  },
  {
   "cell_type": "code",
   "execution_count": 6,
   "id": "56a1fafe-d57a-47d2-8b3a-5e6e15a2a930",
   "metadata": {},
   "outputs": [
    {
     "name": "stdout",
     "output_type": "stream",
     "text": [
      "Average Accuracy (Random Forest + Word2Vec): 0.8496\n",
      "Average Accuracy (Random Forest + Word2Vec) dalam persen: 84.96%\n"
     ]
    }
   ],
   "source": [
    "# Akurasi untuk setiap aspek dari hasil classification_report\n",
    "accuracy_per_aspect = [\n",
    "    0.884,  # ac\n",
    "    0.912,  # air_panas\n",
    "    0.856,  # bau\n",
    "    0.882,  # general\n",
    "    0.672,  # kebersihan\n",
    "    0.775,  # linen\n",
    "    0.788,  # service\n",
    "    0.939,  # sunrise_meal\n",
    "    0.919,  # tv\n",
    "    0.869   # wifi\n",
    "]\n",
    "\n",
    "# Hitung rata-rata akurasi\n",
    "average_accuracy = sum(accuracy_per_aspect) / len(accuracy_per_aspect)\n",
    "\n",
    "print(f\"Average Accuracy (Random Forest + Word2Vec): {average_accuracy:.4f}\")\n",
    "print(f\"Average Accuracy (Random Forest + Word2Vec) dalam persen: {average_accuracy:.2%}\")"
   ]
  },
  {
   "cell_type": "markdown",
   "id": "7c104799-e342-4817-9cda-42cb7197cfef",
   "metadata": {
    "jp-MarkdownHeadingCollapsed": true
   },
   "source": [
    "### SVM and Word2Vec"
   ]
  },
  {
   "cell_type": "code",
   "execution_count": 7,
   "id": "6f21513c-603e-49c7-b0e2-8ab70b1b955d",
   "metadata": {},
   "outputs": [
    {
     "name": "stdout",
     "output_type": "stream",
     "text": [
      "Average Accuracy (SVM + Word2Vec): 0.8364\n",
      "Average Accuracy (SVM + Word2Vec) dalam persen: 83.64%\n"
     ]
    }
   ],
   "source": [
    "# Akurasi untuk setiap aspek dari hasil classification_report SVM + Word2Vec\n",
    "accuracy_per_aspect = [\n",
    "    0.875,  # ac\n",
    "    0.893,  # air_panas\n",
    "    0.867,  # bau\n",
    "    0.869,  # general\n",
    "    0.652,  # kebersihan\n",
    "    0.726,  # linen\n",
    "    0.764,  # service\n",
    "    0.939,  # sunrise_meal\n",
    "    0.919,  # tv\n",
    "    0.860   # wifi\n",
    "]\n",
    "\n",
    "# Hitung rata-rata akurasi\n",
    "average_accuracy = sum(accuracy_per_aspect) / len(accuracy_per_aspect)\n",
    "\n",
    "print(f\"Average Accuracy (SVM + Word2Vec): {average_accuracy:.4f}\")\n",
    "print(f\"Average Accuracy (SVM + Word2Vec) dalam persen: {average_accuracy:.2%}\")"
   ]
  },
  {
   "cell_type": "markdown",
   "id": "93960003-c5d0-4d28-a374-be9a694afcb4",
   "metadata": {
    "jp-MarkdownHeadingCollapsed": true
   },
   "source": [
    "### Multinomial Naive Bayes + Word2Vec\n",
    "\n",
    "Naive Bayes tidak bisa memakai Word2Vec as Feature Extraction karena Naive Bayes membutuhkan nilai non-negatif karena rumus dasarnya menggunakan log(p(x|y)), dan p(x|y) harus antara 0 dan 1 (probabilitas). dan Jika kamu masukkan angka negatif (seperti hasil Word2Vec), model jadi tidak bisa menghitung probabilitas dengan benar."
   ]
  },
  {
   "cell_type": "markdown",
   "id": "e9190ec7-8abe-4021-b00d-ae7a95903a08",
   "metadata": {
    "jp-MarkdownHeadingCollapsed": true
   },
   "source": [
    "### K-NN and Word2Vec"
   ]
  },
  {
   "cell_type": "code",
   "execution_count": 8,
   "id": "4d9c95f5-5087-485e-b1cc-979a25767e80",
   "metadata": {},
   "outputs": [
    {
     "name": "stdout",
     "output_type": "stream",
     "text": [
      "Average Accuracy (K-NN + Word2Vec): 0.8280\n",
      "Average Accuracy (K-NN + Word2Vec) dalam persen: 82.80%\n"
     ]
    }
   ],
   "source": [
    "# List akurasi per aspek dari hasil klasifikasi K-NN + Word2Vec\n",
    "accuracy_knn_word2vec = [\n",
    "    0.867,  # ac\n",
    "    0.902,  # air_panas\n",
    "    0.856,  # bau\n",
    "    0.864,  # general\n",
    "    0.621,  # kebersihan\n",
    "    0.740,  # linen\n",
    "    0.744,  # service\n",
    "    0.934,  # sunrise_meal\n",
    "    0.912,  # tv\n",
    "    0.840   # wifi\n",
    "]\n",
    "\n",
    "# Hitung rata-rata akurasi\n",
    "average_accuracy = sum(accuracy_knn_word2vec) / len(accuracy_knn_word2vec)\n",
    "\n",
    "# Cetak hasil\n",
    "print(f\"Average Accuracy (K-NN + Word2Vec): {average_accuracy:.4f}\")\n",
    "print(f\"Average Accuracy (K-NN + Word2Vec) dalam persen: {average_accuracy:.2%}\")"
   ]
  },
  {
   "cell_type": "markdown",
   "id": "26d89fa7-ffc7-4775-8262-04a3e8338210",
   "metadata": {
    "jp-MarkdownHeadingCollapsed": true
   },
   "source": [
    "### Hyrbid Classifier + Word2Vec"
   ]
  },
  {
   "cell_type": "code",
   "execution_count": null,
   "id": "2453dea7-b312-478c-8312-bd0cd3617092",
   "metadata": {},
   "outputs": [],
   "source": []
  },
  {
   "cell_type": "code",
   "execution_count": 5,
   "id": "70763ecf-b7e7-414e-9f94-56404a9c342a",
   "metadata": {},
   "outputs": [
    {
     "name": "stdout",
     "output_type": "stream",
     "text": [
      "Average Accuracy (Hybrid Classifier + Word2Vec): 0.8413\n",
      "Average Accuracy (Hybrid Classifier + Word2Vec) dalam persen: 84.13%\n"
     ]
    }
   ],
   "source": [
    "# List akurasi per aspek dari hasil Hybrid Classifier + Word2Vec\n",
    "accuracy_hybrid_word2vec = [\n",
    "    0.877,  # ac\n",
    "    0.895,  # air_panas\n",
    "    0.860,  # bau\n",
    "    0.877,  # general\n",
    "    0.672,  # kebersihan\n",
    "    0.744,  # linen\n",
    "    0.781,  # service\n",
    "    0.939,  # sunrise_meal\n",
    "    0.906,  # tv\n",
    "    0.862   # wifi\n",
    "]\n",
    "\n",
    "# Hitung rata-rata akurasi\n",
    "average_accuracy = sum(accuracy_hybrid_word2vec) / len(accuracy_hybrid_word2vec)\n",
    "\n",
    "# Cetak hasil\n",
    "print(f\"Average Accuracy (Hybrid Classifier + Word2Vec): {average_accuracy:.4f}\")\n",
    "print(f\"Average Accuracy (Hybrid Classifier + Word2Vec) dalam persen: {average_accuracy:.2%}\")"
   ]
  },
  {
   "cell_type": "code",
   "execution_count": 7,
   "id": "cb89530a-b0ce-471a-9e42-680c773f4b90",
   "metadata": {},
   "outputs": [],
   "source": [
    "import seaborn as sns\n",
    "import matplotlib.pyplot as plt\n",
    "import pandas as pd\n",
    "sns.set()"
   ]
  },
  {
   "cell_type": "markdown",
   "id": "05e2f984-acf8-420b-9aa8-332e4c29ab8e",
   "metadata": {},
   "source": [
    "### Comparison Classifiers"
   ]
  },
  {
   "cell_type": "markdown",
   "id": "374658c2-33e0-4f79-be0a-568b611177d0",
   "metadata": {},
   "source": [
    "* Random Forest lebih unggul dalam kasusmu karena cukup kuat menangani fitur Word2Vec, tidak rentan overfitting, dan lebih stabil dibanding Hybrid Classifier yang sensitif terhadap konfigurasi dan data kecil.\n",
    "* "
   ]
  },
  {
   "cell_type": "code",
   "execution_count": 9,
   "id": "5e2a3448-01ee-4fa5-bc0c-0aa9e953f3d4",
   "metadata": {},
   "outputs": [
    {
     "name": "stderr",
     "output_type": "stream",
     "text": [
      "C:\\Users\\LENOVO\\AppData\\Local\\Temp\\ipykernel_5040\\3780158730.py:12: FutureWarning: \n",
      "\n",
      "Passing `palette` without assigning `hue` is deprecated and will be removed in v0.14.0. Assign the `x` variable to `hue` and set `legend=False` for the same effect.\n",
      "\n",
      "  barplot = sns.barplot(\n"
     ]
    },
    {
     "data": {
      "image/png": "[encoded data removed]",
      "text/plain": [
       "<Figure size 800x600 with 1 Axes>"
      ]
     },
     "metadata": {},
     "output_type": "display_data"
    }
   ],
   "source": [
    "# Data\n",
    "data = {\n",
    "    'Model': ['Random Forest', 'SVM', 'K-NN', 'Hybrid'],\n",
    "    'Average Accuracy (%)': [84.96, 83.64, 82.80, 84.13]\n",
    "}\n",
    "\n",
    "df_accuracy = pd.DataFrame(data)\n",
    "\n",
    "# Plotting\n",
    "plt.figure(figsize=(8, 6))\n",
    "sns.set_style(\"whitegrid\")\n",
    "barplot = sns.barplot(\n",
    "    x='Model', \n",
    "    y='Average Accuracy (%)', \n",
    "    data=df_accuracy, \n",
    "    palette='pastel'\n",
    ")\n",
    "\n",
    "# Menambahkan label di atas bar\n",
    "for p in barplot.patches:\n",
    "    barplot.annotate(\n",
    "        f'{p.get_height():.2f}%', \n",
    "        (p.get_x() + p.get_width() / 2, p.get_height()), \n",
    "        ha='center', va='bottom', fontsize=10\n",
    "    )\n",
    "\n",
    "# Judul dan layout\n",
    "plt.title('Perbandingan Average Accuracy (%): Classifier + Word2Vec', fontsize=14)\n",
    "plt.ylim(80, 88)\n",
    "plt.tight_layout()\n",
    "plt.show()"
   ]
  },
  {
   "cell_type": "markdown",
   "id": "727b780e-0dfd-4d66-ab83-5db3bd04b5ac",
   "metadata": {},
   "source": [
    "## Each Classifiers + BoW"
   ]
  },
  {
   "cell_type": "markdown",
   "id": "9fcd72a6-f0fb-49e9-abdc-0eb9e9b7e48c",
   "metadata": {},
   "source": [
    "From all tables in every method, the result of classification can be averaged using the formula:\n",
    "\n",
    "$$\n",
    "\\text{Average Accuracy} = \\frac{\\text{Total sum of all accuracy aspects}}{\\text{Number of aspects}}\n",
    "$$"
   ]
  },
  {
   "cell_type": "markdown",
   "id": "3a4c2218-eff5-423f-a3f3-44026447e020",
   "metadata": {},
   "source": [
    "### Random Forest + BoW"
   ]
  },
  {
   "cell_type": "code",
   "execution_count": 14,
   "id": "199e11d6-8ff6-4393-ae56-590f0dd79c90",
   "metadata": {},
   "outputs": [
    {
     "name": "stdout",
     "output_type": "stream",
     "text": [
      "Rata-rata Akurasi (Random Forest + BoW): 92.91%\n"
     ]
    }
   ],
   "source": [
    "# List akurasi per aspek Random Forest + Word2Vec\n",
    "accuracy_rf_BoW = [\n",
    "    0.967,  # ac\n",
    "    0.956,  # air_panas\n",
    "    0.932,  # bau\n",
    "    0.891,  # general\n",
    "    0.832,  # kebersihan\n",
    "    0.882,  # linen\n",
    "    0.910,  # service\n",
    "    0.965,  # sunrise_meal\n",
    "    0.982,  # tv\n",
    "    0.974   # wifi\n",
    "]\n",
    "\n",
    "# Hitung average accuracy\n",
    "average_accuracy_rf_bow = sum(accuracy_rf_BoW) / len(accuracy_rf_BoW)\n",
    "\n",
    "# Cetak hasil\n",
    "print(f\"Rata-rata Akurasi (Random Forest + BoW): {average_accuracy_rf_bow:.2%}\")"
   ]
  },
  {
   "cell_type": "markdown",
   "id": "85179712-3224-4b50-81a9-385b6ab81c3a",
   "metadata": {},
   "source": [
    "### Support Vector Machine(SVM) + BoW"
   ]
  },
  {
   "cell_type": "code",
   "execution_count": 15,
   "id": "d7b6d896-01d5-4b71-875c-c96b13950644",
   "metadata": {},
   "outputs": [
    {
     "name": "stdout",
     "output_type": "stream",
     "text": [
      "Rata-rata Akurasi (Support Vector Machine + BoW): 90.66%\n"
     ]
    }
   ],
   "source": [
    "# List akurasi per aspek Random Forest + Word2Vec\n",
    "accuracy_svm_BoW = [\n",
    "    0.956,  # ac\n",
    "    0.950,  # air_panas\n",
    "    0.934,  # bau\n",
    "    0.864,  # general\n",
    "    0.788,  # kebersihan\n",
    "    0.792,  # linen\n",
    "    0.856,  # service\n",
    "    0.961,  # sunrise_meal\n",
    "    0.987,  # tv\n",
    "    0.978   # wifi\n",
    "]\n",
    "\n",
    "# Hitung average accuracy\n",
    "average_accuracy_svm_bow = sum(accuracy_svm_BoW) / len(accuracy_svm_BoW)\n",
    "\n",
    "# Cetak hasil\n",
    "print(f\"Rata-rata Akurasi (Support Vector Machine + BoW): {average_accuracy_svm_bow:.2%}\")"
   ]
  },
  {
   "cell_type": "markdown",
   "id": "769d921c-012a-44ae-a063-afd752e90e15",
   "metadata": {},
   "source": [
    "### Multinomial Naive Bayes + BoW"
   ]
  },
  {
   "cell_type": "code",
   "execution_count": 1,
   "id": "07979cff-3f3e-4e81-a8a8-126f3584fc7e",
   "metadata": {},
   "outputs": [
    {
     "name": "stdout",
     "output_type": "stream",
     "text": [
      "Rata-rata Akurasi (Multinomial Naive Bayes + BoW): 78.61%\n"
     ]
    }
   ],
   "source": [
    "# List akurasi per aspek Random Forest + Word2Vec\n",
    "accuracy_nb_BoW = [\n",
    "    0.818,  # ac\n",
    "    0.812,  # air_panas\n",
    "    0.836,  # bau\n",
    "    0.768,  # general\n",
    "    0.698,  # kebersihan\n",
    "    0.757,  # linen\n",
    "    0.755,  # service\n",
    "    0.796,  # sunrise_meal\n",
    "    0.807,  # tv\n",
    "    0.814   # wifi\n",
    "]\n",
    "\n",
    "# Hitung average accuracy\n",
    "average_accuracy_nb_bow = sum(accuracy_nb_BoW) / len(accuracy_nb_BoW)\n",
    "\n",
    "# Cetak hasil\n",
    "print(f\"Rata-rata Akurasi (Multinomial Naive Bayes + BoW): {average_accuracy_nb_bow:.2%}\")"
   ]
  },
  {
   "cell_type": "markdown",
   "id": "5cab586a-864d-4f2a-b8bb-cf8e146b9d71",
   "metadata": {},
   "source": [
    "### K-NN + BoW"
   ]
  },
  {
   "cell_type": "code",
   "execution_count": 17,
   "id": "7bd13e8d-c098-4fb5-b6df-9b5dba7c1bfd",
   "metadata": {},
   "outputs": [
    {
     "name": "stdout",
     "output_type": "stream",
     "text": [
      "Rata-rata Akurasi (K-Nearest Neighbour + BoW): 87.80%\n"
     ]
    }
   ],
   "source": [
    "# List akurasi per aspek Random Forest + Word2Vec\n",
    "accuracy_knn_BoW = [\n",
    "    0.919,  # ac\n",
    "    0.941,  # air_panas\n",
    "    0.895,  # bau\n",
    "    0.880,  # general\n",
    "    0.770,  # kebersihan\n",
    "    0.753,  # linen\n",
    "    0.821,  # service\n",
    "    0.943,  # sunrise_meal\n",
    "    0.930,  # tv\n",
    "    0.928   # wifi\n",
    "]\n",
    "\n",
    "# Hitung average accuracy\n",
    "average_accuracy_knn_bow = sum(accuracy_knn_BoW) / len(accuracy_knn_BoW)\n",
    "\n",
    "# Cetak hasil\n",
    "print(f\"Rata-rata Akurasi (K-Nearest Neighbour + BoW): {average_accuracy_knn_bow:.2%}\")"
   ]
  },
  {
   "cell_type": "markdown",
   "id": "d519f5ac-bc9f-4343-8f03-8c8e93670eda",
   "metadata": {},
   "source": [
    "### Hybrid Classifiers"
   ]
  },
  {
   "cell_type": "code",
   "execution_count": 2,
   "id": "70443836-36f3-438d-8638-0a7b762e1a8d",
   "metadata": {},
   "outputs": [
    {
     "name": "stdout",
     "output_type": "stream",
     "text": [
      "Rata-rata Akurasi (Hybrid classifier + BoW): 92.93%\n"
     ]
    }
   ],
   "source": [
    "# List akurasi per aspek Random Forest + Word2Vec\n",
    "accuracy_hybrid_BoW = [\n",
    "    0.961,  # ac\n",
    "    0.967,  # air_panas\n",
    "    0.937,  # bau\n",
    "    0.906,  # general\n",
    "    0.816,  # kebersihan\n",
    "    0.882,  # linen\n",
    "    0.904,  # service\n",
    "    0.958,  # sunrise_meal\n",
    "    0.980,  # tv\n",
    "    0.982   # wifi\n",
    "]\n",
    "\n",
    "# Hitung average accuracy\n",
    "average_accuracy_hybrid_bow = sum(accuracy_hybrid_BoW) / len(accuracy_hybrid_BoW)\n",
    "\n",
    "# Cetak hasil\n",
    "print(f\"Rata-rata Akurasi (Hybrid classifier + BoW): {average_accuracy_hybrid_bow:.2%}\")"
   ]
  },
  {
   "cell_type": "code",
   "execution_count": 3,
   "id": "56380237-3004-4c80-a16c-29731af6be78",
   "metadata": {},
   "outputs": [
    {
     "name": "stderr",
     "output_type": "stream",
     "text": [
      "C:\\Users\\LENOVO\\AppData\\Local\\Temp\\ipykernel_15448\\1975976885.py:15: FutureWarning: \n",
      "\n",
      "Passing `palette` without assigning `hue` is deprecated and will be removed in v0.14.0. Assign the `x` variable to `hue` and set `legend=False` for the same effect.\n",
      "\n",
      "  sns.barplot(data=df, x='Model', y='Average Accuracy (%)', palette='Set2')\n"
     ]
    },
    {
     "data": {
      "image/png": "[encoded data removed]",
      "text/plain": [
       "<Figure size 1000x600 with 1 Axes>"
      ]
     },
     "metadata": {},
     "output_type": "display_data"
    }
   ],
   "source": [
    "import pandas as pd\n",
    "import seaborn as sns\n",
    "import matplotlib.pyplot as plt\n",
    "\n",
    "# Data\n",
    "data = {\n",
    "    'Model': ['Random Forest', 'SVM', 'K-NN', 'Naive Bayes', 'Hybrid'],\n",
    "    'Average Accuracy (%)': [92.91, 90.66, 87.80, 83.42, 92.93]\n",
    "}\n",
    "\n",
    "df = pd.DataFrame(data)\n",
    "\n",
    "# Plot\n",
    "plt.figure(figsize=(10, 6))\n",
    "sns.barplot(data=df, x='Model', y='Average Accuracy (%)', palette='Set2')\n",
    "plt.ylim(75, 95)\n",
    "plt.title('Perbandingan Rata-rata Akurasi Tiap Model classifiers + BoW')\n",
    "plt.ylabel('Average Accuracy (%)')\n",
    "plt.xlabel('Model')\n",
    "plt.grid(axis='y', linestyle='--', alpha=0.7)\n",
    "plt.tight_layout()\n",
    "plt.show()"
   ]
  },
  {
   "cell_type": "markdown",
   "id": "0cd4f47f-beb6-4d06-9638-b0761f81a2de",
   "metadata": {},
   "source": [
    "## Each Classifiers + TF-IDF"
   ]
  },
  {
   "cell_type": "markdown",
   "id": "528eb7fb-f366-4f9b-8d95-bd471ee2db18",
   "metadata": {},
   "source": [
    "From all tables in every method, the result of classification can be averaged using the formula:\n",
    "\n",
    "$$\n",
    "\\text{Average Accuracy} = \\frac{\\text{Total sum of all accuracy aspects}}{\\text{Number of aspects}}\n",
    "$$"
   ]
  },
  {
   "cell_type": "markdown",
   "id": "5d8cfce7-851d-4b86-952b-bada68ef6b98",
   "metadata": {},
   "source": [
    "### Random Forest + TF-IDF"
   ]
  },
  {
   "cell_type": "code",
   "execution_count": 21,
   "id": "254bd6db-916d-4186-902b-55c529dba540",
   "metadata": {},
   "outputs": [
    {
     "name": "stdout",
     "output_type": "stream",
     "text": [
      "Rata-rata Akurasi (Random Forest + tfidf): 92.83%\n"
     ]
    }
   ],
   "source": [
    "# List akurasi per aspek Random Forest + Word2Vec\n",
    "accuracy_rf_tfidf = [\n",
    "    0.965,  # ac\n",
    "    0.958,  # air_panas\n",
    "    0.937,  # bau\n",
    "    0.891,  # general\n",
    "    0.829,  # kebersihan\n",
    "    0.875,  # linen\n",
    "    0.897,  # service\n",
    "    0.969,  # sunrise_meal\n",
    "    0.982,  # tv\n",
    "    0.980   # wifi\n",
    "]\n",
    "\n",
    "# Hitung average accuracy\n",
    "average_accuracy_rf_tfidf = sum(accuracy_rf_tfidf) / len(accuracy_rf_tfidf)\n",
    "\n",
    "# Cetak hasil\n",
    "print(f\"Rata-rata Akurasi (Random Forest + tfidf): {average_accuracy_rf_tfidf:.2%}\")"
   ]
  },
  {
   "cell_type": "markdown",
   "id": "dcf17cff-55e6-4a56-b188-53b449449822",
   "metadata": {},
   "source": [
    "### Support Vector Machine + TF-IDF"
   ]
  },
  {
   "cell_type": "code",
   "execution_count": 23,
   "id": "616148e6-7d85-424c-957f-50ff79246c43",
   "metadata": {},
   "outputs": [
    {
     "name": "stdout",
     "output_type": "stream",
     "text": [
      "Rata-rata Akurasi (Support Vector Machine + tfidf): 91.96%\n"
     ]
    }
   ],
   "source": [
    "# List akurasi per aspek Random Forest + Word2Vec\n",
    "accuracy_svm_tfidf = [\n",
    "    0.952,  # ac\n",
    "    0.950,  # air_panas\n",
    "    0.937,  # bau\n",
    "    0.888,  # general\n",
    "    0.794,  # kebersihan\n",
    "    0.877,  # linen\n",
    "    0.871,  # service\n",
    "    0.969,  # sunrise_meal\n",
    "    0.980,  # tv\n",
    "    0.978   # wifi\n",
    "]\n",
    "\n",
    "# Hitung average accuracy\n",
    "average_accuracy_svm_tfidf = sum(accuracy_svm_tfidf) / len(accuracy_svm_tfidf)\n",
    "\n",
    "# Cetak hasil\n",
    "print(f\"Rata-rata Akurasi (Support Vector Machine + tfidf): {average_accuracy_svm_tfidf:.2%}\")"
   ]
  },
  {
   "cell_type": "markdown",
   "id": "88444e9b-fd51-41ab-8ffb-e8126e7676b0",
   "metadata": {},
   "source": [
    "### Naive Bayes + TF-IDF"
   ]
  },
  {
   "cell_type": "code",
   "execution_count": 4,
   "id": "94b1d7c0-a98f-4ea8-9e65-6359b280961c",
   "metadata": {},
   "outputs": [
    {
     "name": "stdout",
     "output_type": "stream",
     "text": [
      "Rata-rata Akurasi (Naive Bayes + tfidf): 74.45%\n"
     ]
    }
   ],
   "source": [
    "# List akurasi per aspek Random Forest + Word2Vec\n",
    "accuracy_nb_tfidf = [\n",
    "    0.770,  # ac\n",
    "    0.766,  # air_panas\n",
    "    0.757,  # bau\n",
    "    0.678,  # general\n",
    "    0.575,  # kebersihan\n",
    "    0.735,  # linen\n",
    "    0.761,  # service\n",
    "    0.775,  # sunrise_meal\n",
    "    0.812,  # tv\n",
    "    0.816   # wifi\n",
    "]\n",
    "\n",
    "# Hitung average accuracy\n",
    "average_accuracy_nb_tfidf = sum(accuracy_nb_tfidf) / len(accuracy_nb_tfidf)\n",
    "\n",
    "# Cetak hasil\n",
    "print(f\"Rata-rata Akurasi (Naive Bayes + tfidf): {average_accuracy_nb_tfidf:.2%}\")"
   ]
  },
  {
   "cell_type": "markdown",
   "id": "e0278e07-288d-498f-b69d-e77c46628eb8",
   "metadata": {},
   "source": [
    "### K-Nearest Neighbour + TF-IDF"
   ]
  },
  {
   "cell_type": "code",
   "execution_count": 6,
   "id": "a0ffefb3-a1b5-44af-9591-d23f86779f3a",
   "metadata": {},
   "outputs": [
    {
     "name": "stdout",
     "output_type": "stream",
     "text": [
      "Rata-rata Akurasi (K-NN + tfidf): 86.51%\n"
     ]
    }
   ],
   "source": [
    "# List akurasi per aspek Random Forest + Word2Vec\n",
    "accuracy_knn_tfidf = [\n",
    "    0.875,  # ac\n",
    "    0.926,  # air_panas\n",
    "    0.897,  # bau\n",
    "    0.886,  # general\n",
    "    0.694,  # kebersihan\n",
    "    0.786,  # linen\n",
    "    0.786,  # service\n",
    "    0.956,  # sunrise_meal\n",
    "    0.939,  # tv\n",
    "    0.906   # wifi\n",
    "]\n",
    "\n",
    "# Hitung average accuracy\n",
    "average_accuracy_knn_tfidf = sum(accuracy_knn_tfidf) / len(accuracy_knn_tfidf)\n",
    "\n",
    "# Cetak hasil\n",
    "print(f\"Rata-rata Akurasi (K-NN + tfidf): {average_accuracy_knn_tfidf:.2%}\")"
   ]
  },
  {
   "cell_type": "code",
   "execution_count": 27,
   "id": "5305ff29-cf71-4301-baaa-7e0af3a126f7",
   "metadata": {},
   "outputs": [
    {
     "name": "stdout",
     "output_type": "stream",
     "text": [
      "Rata-rata Akurasi (K-NN + tfidf): 86.51%\n"
     ]
    }
   ],
   "source": [
    "# List akurasi per aspek Random Forest + Word2Vec\n",
    "accuracy_knn_tfidf = [\n",
    "    0.875,  # ac\n",
    "    0.926,  # air_panas\n",
    "    0.897,  # bau\n",
    "    0.886,  # general\n",
    "    0.694,  # kebersihan\n",
    "    0.786,  # linen\n",
    "    0.786,  # service\n",
    "    0.956,  # sunrise_meal\n",
    "    0.939,  # tv\n",
    "    0.906   # wifi\n",
    "]\n",
    "\n",
    "# Hitung average accuracy\n",
    "average_accuracy_knn_tfidf = sum(accuracy_knn_tfidf) / len(accuracy_knn_tfidf)\n",
    "\n",
    "# Cetak hasil\n",
    "print(f\"Rata-rata Akurasi (K-NN + tfidf): {average_accuracy_knn_tfidf:.2%}\")"
   ]
  },
  {
   "cell_type": "markdown",
   "id": "946553b8-3225-42e5-8ccc-975b3cc7ed2a",
   "metadata": {},
   "source": [
    "### Hybrid Classifier + TF-IDF"
   ]
  },
  {
   "cell_type": "code",
   "execution_count": 5,
   "id": "c2bfb7a3-57c7-43c5-a558-ce21921af447",
   "metadata": {},
   "outputs": [
    {
     "name": "stdout",
     "output_type": "stream",
     "text": [
      "Rata-rata Akurasi (Hybrid Classifier + tfidf): 92.32%\n"
     ]
    }
   ],
   "source": [
    "# List akurasi per aspek Random Forest + Word2Vec\n",
    "accuracy_hybrid_tfidf = [\n",
    "    0.963,  # ac\n",
    "    0.950,  # air_panas\n",
    "    0.930,  # bau\n",
    "    0.888,  # general\n",
    "    0.816,  # kebersihan\n",
    "    0.873,  # linen\n",
    "    0.902,  # service\n",
    "    0.963,  # sunrise_meal\n",
    "    0.967,  # tv\n",
    "    0.980   # wifi\n",
    "]\n",
    "\n",
    "# Hitung average accuracy\n",
    "average_accuracy_hybrid_tfidf = sum(accuracy_hybrid_tfidf) / len(accuracy_hybrid_tfidf)\n",
    "\n",
    "# Cetak hasil\n",
    "print(f\"Rata-rata Akurasi (Hybrid Classifier + tfidf): {average_accuracy_hybrid_tfidf:.2%}\")"
   ]
  },
  {
   "cell_type": "code",
   "execution_count": 1,
   "id": "d4fc0a8e-6715-481d-b4bf-b16436070c93",
   "metadata": {},
   "outputs": [
    {
     "name": "stderr",
     "output_type": "stream",
     "text": [
      "C:\\Users\\LENOVO\\AppData\\Local\\Temp\\ipykernel_13548\\1364091577.py:15: FutureWarning: \n",
      "\n",
      "Passing `palette` without assigning `hue` is deprecated and will be removed in v0.14.0. Assign the `x` variable to `hue` and set `legend=False` for the same effect.\n",
      "\n",
      "  sns.barplot(data=df, x='Model', y='Average Accuracy (%)', palette='Set2')\n"
     ]
    },
    {
     "data": {
      "image/png": "[encoded data removed]",
      "text/plain": [
       "<Figure size 1000x600 with 1 Axes>"
      ]
     },
     "metadata": {},
     "output_type": "display_data"
    }
   ],
   "source": [
    "import pandas as pd\n",
    "import seaborn as sns\n",
    "import matplotlib.pyplot as plt\n",
    "\n",
    "# Data\n",
    "data = {\n",
    "    'Model': ['Random Forest', 'SVM', 'K-NN', 'Naive Bayes', 'Hybrid'],\n",
    "    'Average Accuracy (%)': [92.83, 91.96, 86.51, 74.45, 92.32]\n",
    "}\n",
    "\n",
    "df = pd.DataFrame(data)\n",
    "\n",
    "# Plot\n",
    "plt.figure(figsize=(10, 6))\n",
    "sns.barplot(data=df, x='Model', y='Average Accuracy (%)', palette='Set2')\n",
    "plt.ylim(70, 95)\n",
    "plt.title('Perbandingan Rata-rata Akurasi Tiap Model Classifiers + TF-IDF')\n",
    "plt.ylabel('Average Accuracy (%)')\n",
    "plt.xlabel('Model')\n",
    "plt.grid(axis='y', linestyle='--', alpha=0.7)\n",
    "plt.tight_layout()\n",
    "plt.show()"
   ]
  },
  {
   "cell_type": "code",
   "execution_count": null,
   "id": "7455d598-d1cb-4ba8-86d8-e30f61e2e26d",
   "metadata": {},
   "outputs": [],
   "source": []
  },
  {
   "cell_type": "markdown",
   "id": "1f7e3060-a480-4e71-be9c-ae166b6dfff5",
   "metadata": {},
   "source": [
    "## Comparison Feature Extraction"
   ]
  },
  {
   "cell_type": "code",
   "execution_count": 2,
   "id": "d4ff2a74-4d98-4811-bc43-dd44cbaddf81",
   "metadata": {},
   "outputs": [
    {
     "name": "stdout",
     "output_type": "stream",
     "text": [
      "Tabel Perbandingan Akurasi Rata-Rata (Diurutkan):\n"
     ]
    },
    {
     "data": {
      "text/html": [
       "<div>\n",
       "<style scoped>\n",
       "    .dataframe tbody tr th:only-of-type {\n",
       "        vertical-align: middle;\n",
       "    }\n",
       "\n",
       "    .dataframe tbody tr th {\n",
       "        vertical-align: top;\n",
       "    }\n",
       "\n",
       "    .dataframe thead th {\n",
       "        text-align: right;\n",
       "    }\n",
       "</style>\n",
       "<table border=\"1\" class=\"dataframe\">\n",
       "  <thead>\n",
       "    <tr style=\"text-align: right;\">\n",
       "      <th></th>\n",
       "      <th>Model</th>\n",
       "      <th>BoW</th>\n",
       "      <th>TF-IDF</th>\n",
       "      <th>Word2Vec</th>\n",
       "      <th>Average</th>\n",
       "    </tr>\n",
       "  </thead>\n",
       "  <tbody>\n",
       "    <tr>\n",
       "      <th>0</th>\n",
       "      <td>Random Forest</td>\n",
       "      <td>92.91</td>\n",
       "      <td>92.83</td>\n",
       "      <td>84.96</td>\n",
       "      <td>90.233333</td>\n",
       "    </tr>\n",
       "    <tr>\n",
       "      <th>1</th>\n",
       "      <td>Hybrid</td>\n",
       "      <td>92.93</td>\n",
       "      <td>92.32</td>\n",
       "      <td>84.13</td>\n",
       "      <td>89.793333</td>\n",
       "    </tr>\n",
       "    <tr>\n",
       "      <th>2</th>\n",
       "      <td>SVM</td>\n",
       "      <td>90.66</td>\n",
       "      <td>91.96</td>\n",
       "      <td>83.64</td>\n",
       "      <td>88.753333</td>\n",
       "    </tr>\n",
       "    <tr>\n",
       "      <th>3</th>\n",
       "      <td>K-NN</td>\n",
       "      <td>87.80</td>\n",
       "      <td>86.51</td>\n",
       "      <td>82.80</td>\n",
       "      <td>85.703333</td>\n",
       "    </tr>\n",
       "    <tr>\n",
       "      <th>4</th>\n",
       "      <td>Naive Bayes</td>\n",
       "      <td>83.42</td>\n",
       "      <td>74.45</td>\n",
       "      <td>NaN</td>\n",
       "      <td>78.935000</td>\n",
       "    </tr>\n",
       "  </tbody>\n",
       "</table>\n",
       "</div>"
      ],
      "text/plain": [
       "           Model    BoW  TF-IDF  Word2Vec    Average\n",
       "0  Random Forest  92.91   92.83     84.96  90.233333\n",
       "1         Hybrid  92.93   92.32     84.13  89.793333\n",
       "2            SVM  90.66   91.96     83.64  88.753333\n",
       "3           K-NN  87.80   86.51     82.80  85.703333\n",
       "4    Naive Bayes  83.42   74.45       NaN  78.935000"
      ]
     },
     "metadata": {},
     "output_type": "display_data"
    },
    {
     "data": {
      "image/png": "[encoded data removed]",
      "text/plain": [
       "<Figure size 1200x600 with 1 Axes>"
      ]
     },
     "metadata": {},
     "output_type": "display_data"
    }
   ],
   "source": [
    "import pandas as pd\n",
    "import matplotlib.pyplot as plt\n",
    "\n",
    "# === Data ===\n",
    "bow_data = pd.DataFrame({\n",
    "    'Model': ['Random Forest', 'SVM', 'K-NN', 'Naive Bayes', 'Hybrid'],\n",
    "    'BoW': [92.91, 90.66, 87.80, 83.42, 92.93]\n",
    "})\n",
    "\n",
    "tfidf_data = pd.DataFrame({\n",
    "    'Model': ['Random Forest', 'SVM', 'K-NN', 'Naive Bayes', 'Hybrid'],\n",
    "    'TF-IDF': [92.83, 91.96, 86.51, 74.45, 92.32]\n",
    "})\n",
    "\n",
    "word2vec_data = pd.DataFrame({\n",
    "    'Model': ['Random Forest', 'SVM', 'K-NN', 'Hybrid'],\n",
    "    'Word2Vec': [84.96, 83.64, 82.80, 84.13]\n",
    "})\n",
    "\n",
    "# Gabungkan semua data\n",
    "combined = bow_data.merge(tfidf_data, on='Model').merge(word2vec_data, on='Model', how='left')\n",
    "\n",
    "# Tambahkan kolom rata-rata per model\n",
    "combined['Average'] = combined[['BoW', 'TF-IDF', 'Word2Vec']].mean(axis=1, skipna=True)\n",
    "\n",
    "# Urutkan dari model dengan skor rata-rata tertinggi\n",
    "combined_sorted = combined.sort_values(by='Average', ascending=False).reset_index(drop=True)\n",
    "\n",
    "# Tampilkan tabel\n",
    "print(\"Tabel Perbandingan Akurasi Rata-Rata (Diurutkan):\")\n",
    "display(combined_sorted)\n",
    "\n",
    "# === Visualisasi ===\n",
    "combined_sorted.set_index('Model')[['BoW', 'TF-IDF', 'Word2Vec']].plot(kind='bar', figsize=(12, 6), colormap='viridis')\n",
    "plt.title('Perbandingan Akurasi Rata-Rata Tiap Representasi Fitur (Terurut)')\n",
    "plt.ylabel('Average Accuracy (%)')\n",
    "plt.xlabel('Model')\n",
    "plt.ylim(60, 95)\n",
    "plt.grid(axis='y')\n",
    "plt.tight_layout()\n",
    "plt.show()"
   ]
  },
  {
   "cell_type": "markdown",
   "id": "61b5e289-1a13-44d2-930a-d238dc8436a9",
   "metadata": {},
   "source": [
    "### 📌 Conclusion of Model Evaluation and Feature Representation\n",
    "\n",
    "Based on experiments conducted on approximately **2,200 Indonesian hotel review data**, five classification algorithms were evaluated: **Random Forest, SVM, K-NN, Naive Bayes**, and a **Hybrid Classifier**, using three feature extraction methods: **BoW, TF-IDF**, and **Word2Vec**. The results indicate:\n",
    "\n",
    "1. **Random Forest** consistently delivered the best performance with the **highest average accuracy of 90.23%**, followed by the **Hybrid Classifier (89.78%)** and **SVM (88.75%)**.\n",
    "2. **K-NN** showed fairly competitive performance with an average accuracy of 85.70%, while **Naive Bayes** performed the lowest among all models, with an average accuracy of 82.36%.\n",
    "3. In terms of feature representation:\n",
    "   - **BoW and TF-IDF provided high and stable accuracy** across almost all models.\n",
    "   - **Word2Vec generally resulted in lower accuracy**, but still contributed positively, especially to the Random Forest and Hybrid models.\n",
    "4. The **Hybrid Classifier**, which combines multiple models, performed close to Random Forest, making it a viable alternative.\n",
    "\n",
    "---\n",
    "\n",
    "### 🧩 Recommendations\n",
    "\n",
    "Based on the findings and the research objectives:\n",
    "\n",
    "- **Random Forest with BoW or TF-IDF** is recommended as the best-performing model for sentiment analysis of Indonesian hotel reviews.\n",
    "- The **Hybrid Classifier** is also worth considering for cases that require ensemble models with good generalization.\n",
    "- **BoW and TF-IDF** have proven to be more effective feature extraction methods compared to Word2Vec in the context of this dataset and language.\n"
   ]
  },
  {
   "cell_type": "code",
   "execution_count": null,
   "id": "ed584e8f-5065-4c58-8efc-dd2505f90006",
   "metadata": {},
   "outputs": [],
   "source": []
  }
 ],
 "metadata": {
  "kernelspec": {
   "display_name": "Python 3 (ipykernel)",
   "language": "python",
   "name": "python3"
  },
  "language_info": {
   "codemirror_mode": {
    "name": "ipython",
    "version": 3
   },
   "file_extension": ".py",
   "mimetype": "text/x-python",
   "name": "python",
   "nbconvert_exporter": "python",
   "pygments_lexer": "ipython3",
   "version": "3.12.7"
  }
 },
 "nbformat": 4,
 "nbformat_minor": 5
}
